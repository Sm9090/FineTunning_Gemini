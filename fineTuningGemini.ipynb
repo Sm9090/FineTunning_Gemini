import os
import google.generativeai as genai
from google.colab import userdata

genai.configure(api_key=userdata.get('GOOGLE_APIKEY'))


generation_config = {
  "temperature": 2,
  "top_p": 0.95,
  "top_k": 40,
  "max_output_tokens": 8192,
  "response_mime_type": "text/plain",
}

model = genai.GenerativeModel(
  model_name="gemini-1.5-flash",
  generation_config=generation_config,
)

response = model.generate_content([
  "in Symbol: #ETHEntry signal: SELLEntry price: 2000Leverage: 10xRisk Size: 500$Stoploss: 1900Take profit 1: 2100",
  "output: {pair: \\\"ETH/USDT\\\", entry_price: \"2000\", take_profit: [\"2100\"], stop_loss: \"1900\", type: \"short\\\"}",
  "in Symbol: #BTCEntry signal: BUYEntry price: NOWLeverage: 5xRisk Size: 2000$Stoploss: 48000Take profit 1: 52000Take profit 2: 54000",
  "output: {pair: \"BTC/USDT\", entry_price: \"NOW\", take_profit: [\"52000\", \"54000\"], stop_loss: \"48000\", type: \"long\"}",
  "in Symbol: #DOGEEntry signal: BUYEntry price: 0.1Leverage: 3xRisk Size: 100$Stoploss: 0.09Take profit 1: 0.12",
  "output: {pair: \"DOGE/USDT\", entry_price: \"0.1\", take_profit: [\"0.12\"], \"stop_loss\": \"0.09\", type: \"long\"}",
  "in Symbol: #AEVO - - SPOT/FUTUREEntry signal: BUYEntry price: Now -- 2.78, 2.60Leverage: 10x, 20xPosition size: 100, 250Risk Size: 100$Est liq. / Stoploss:2.46Take profit 1: 3.23Take profit 2: 3.49",
  "output: ",
])

print(response.text)
