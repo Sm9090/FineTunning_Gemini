{
  "nbformat": 4,
  "nbformat_minor": 0,
  "metadata": {
    "colab": {
      "provenance": [],
      "authorship_tag": "ABX9TyMR2kapw2IVRZ4roTsocFbn",
      "include_colab_link": true
    },
    "kernelspec": {
      "name": "python3",
      "display_name": "Python 3"
    },
    "language_info": {
      "name": "python"
    }
  },
  "cells": [
    {
      "cell_type": "markdown",
      "metadata": {
        "id": "view-in-github",
        "colab_type": "text"
      },
      "source": [
        "<a href=\"https://colab.research.google.com/github/Sm9090/FineTunning_Gemini/blob/main/fineTuningGemini.ipynb\" target=\"_parent\"><img src=\"https://colab.research.google.com/assets/colab-badge.svg\" alt=\"Open In Colab\"/></a>"
      ]
    },
    {
      "cell_type": "code",
      "execution_count": 4,
      "metadata": {
        "colab": {
          "base_uri": "https://localhost:8080/",
          "height": 225
        },
        "id": "Z3Z8_Ih0n-hX",
        "outputId": "98b3cb0a-8696-48bd-d0d0-a1fc8956b55c"
      },
      "outputs": [
        {
          "output_type": "stream",
          "name": "stdout",
          "text": [
            "```json\n",
            "{\n",
            "  \"pair\": \"AEVO/USDT\", \n",
            "  \"entry_price\": [\"2.78\", \"2.60\"], \n",
            "  \"take_profit\": [\"3.23\", \"3.49\"], \n",
            "  \"stop_loss\": \"2.46\", \n",
            "  \"type\": \"long\",\n",
            "  \"leverage\":[\"10x\", \"20x\"],\n",
            "  \"position_size\":[\"100\", \"250\"]\n",
            "}\n",
            "```\n",
            "\n"
          ]
        }
      ],
      "source": [
        "import os\n",
        "import google.generativeai as genai\n",
        "from google.colab import userdata\n",
        "\n",
        "genai.configure(api_key=userdata.get('GOOGLE_APIKEY'))\n",
        "\n",
        "\n",
        "generation_config = {\n",
        "  \"temperature\": 2,\n",
        "  \"top_p\": 0.95,\n",
        "  \"top_k\": 40,\n",
        "  \"max_output_tokens\": 8192,\n",
        "  \"response_mime_type\": \"text/plain\",\n",
        "}\n",
        "\n",
        "model = genai.GenerativeModel(\n",
        "  model_name=\"gemini-1.5-flash\",\n",
        "  generation_config=generation_config,\n",
        ")\n",
        "\n",
        "response = model.generate_content([\n",
        "  \"in Symbol: #ETHEntry signal: SELLEntry price: 2000Leverage: 10xRisk Size: 500$Stoploss: 1900Take profit 1: 2100\",\n",
        "  \"output: {pair: \\\\\\\"ETH/USDT\\\\\\\", entry_price: \\\"2000\\\", take_profit: [\\\"2100\\\"], stop_loss: \\\"1900\\\", type: \\\"short\\\\\\\"}\",\n",
        "  \"in Symbol: #BTCEntry signal: BUYEntry price: NOWLeverage: 5xRisk Size: 2000$Stoploss: 48000Take profit 1: 52000Take profit 2: 54000\",\n",
        "  \"output: {pair: \\\"BTC/USDT\\\", entry_price: \\\"NOW\\\", take_profit: [\\\"52000\\\", \\\"54000\\\"], stop_loss: \\\"48000\\\", type: \\\"long\\\"}\",\n",
        "  \"in Symbol: #DOGEEntry signal: BUYEntry price: 0.1Leverage: 3xRisk Size: 100$Stoploss: 0.09Take profit 1: 0.12\",\n",
        "  \"output: {pair: \\\"DOGE/USDT\\\", entry_price: \\\"0.1\\\", take_profit: [\\\"0.12\\\"], \\\"stop_loss\\\": \\\"0.09\\\", type: \\\"long\\\"}\",\n",
        "  \"in Symbol: #AEVO - - SPOT/FUTUREEntry signal: BUYEntry price: Now -- 2.78, 2.60Leverage: 10x, 20xPosition size: 100, 250Risk Size: 100$Est liq. / Stoploss:2.46Take profit 1: 3.23Take profit 2: 3.49\",\n",
        "  \"output: \",\n",
        "])\n",
        "\n",
        "print(response.text)"
      ]
    },
    {
      "cell_type": "code",
      "source": [],
      "metadata": {
        "id": "2Jtzy6mdoXGR"
      },
      "execution_count": null,
      "outputs": []
    }
  ]
}